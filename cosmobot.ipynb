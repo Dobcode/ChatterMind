{
  "nbformat": 4,
  "nbformat_minor": 0,
  "metadata": {
    "colab": {
      "provenance": [],
      "authorship_tag": "ABX9TyPVG9uCPEZ7ag23MZpcF9AE",
      "include_colab_link": true
    },
    "kernelspec": {
      "name": "python3",
      "display_name": "Python 3"
    },
    "language_info": {
      "name": "python"
    }
  },
  "cells": [
    {
      "cell_type": "markdown",
      "metadata": {
        "id": "view-in-github",
        "colab_type": "text"
      },
      "source": [
        "<a href=\"https://colab.research.google.com/github/Dobcode/ChatterMind/blob/main/cosmobot.ipynb\" target=\"_parent\"><img src=\"https://colab.research.google.com/assets/colab-badge.svg\" alt=\"Open In Colab\"/></a>"
      ]
    },
    {
      "cell_type": "code",
      "execution_count": 36,
      "metadata": {
        "id": "oUyLl3YAGtO5"
      },
      "outputs": [],
      "source": [
        "import numpy as np\n",
        "import nltk\n",
        "import string\n",
        "import random"
      ]
    },
    {
      "cell_type": "code",
      "source": [
        "\n",
        "file_path = '/content/earth.txt'\n",
        "\n",
        "try:\n",
        "    with open(file_path, 'r', errors='ignore') as f:\n",
        "        raw_doc = f.read()\n",
        "        # Add your code here to process the contents of the file\n",
        "except FileNotFoundError:\n",
        "    print(f\"Error: The file '{file_path}' was not found.\")\n",
        "except Exception as e:\n",
        "    print(f\"An error occurred while reading the file: {e}\")\n"
      ],
      "metadata": {
        "id": "ACJqbMjwbGyg"
      },
      "execution_count": 59,
      "outputs": []
    },
    {
      "cell_type": "code",
      "source": [
        "raw_doc=raw_doc.lower()\n",
        "nltk.download('punkt')#punkt tokenizer\n",
        "nltk.download('wordnet')#wordnet dictionary\n",
        "nltk.download('omw-1.4')\n"
      ],
      "metadata": {
        "colab": {
          "base_uri": "https://localhost:8080/"
        },
        "id": "x70-bn8dcCTO",
        "outputId": "d1fffee2-a228-4f34-8622-a756aaa5370d"
      },
      "execution_count": 40,
      "outputs": [
        {
          "output_type": "stream",
          "name": "stderr",
          "text": [
            "[nltk_data] Downloading package punkt to /root/nltk_data...\n",
            "[nltk_data]   Package punkt is already up-to-date!\n",
            "[nltk_data] Downloading package wordnet to /root/nltk_data...\n",
            "[nltk_data]   Package wordnet is already up-to-date!\n",
            "[nltk_data] Downloading package omw-1.4 to /root/nltk_data...\n",
            "[nltk_data]   Package omw-1.4 is already up-to-date!\n"
          ]
        },
        {
          "output_type": "execute_result",
          "data": {
            "text/plain": [
              "True"
            ]
          },
          "metadata": {},
          "execution_count": 40
        }
      ]
    },
    {
      "cell_type": "code",
      "source": [
        "sentence_tokens=nltk.sent_tokenize(raw_doc)\n",
        "word_tokens=nltk.word_tokenize(raw_doc)"
      ],
      "metadata": {
        "id": "Y2uZtMq7ctBv"
      },
      "execution_count": 6,
      "outputs": []
    },
    {
      "cell_type": "code",
      "source": [
        "# LemNormalize function that lemmatizes tokens after lowercasing and removing punctuation\n",
        "def LemNormalize(text):\n",
        "    lemmer = nltk.stem.WordNetLemmatizer()\n",
        "    return [lemmer.lemmatize(token) for token in nltk.word_tokenize(text.lower())]\n",
        "\n",
        "word_net_lemmatizer = nltk.stem.WordNetLemmatizer()\n",
        "\n",
        "def lemmatize_word(word):\n",
        "    return word_net_lemmatizer.lemmatize(word)\n",
        "\n",
        "lemmer = nltk.stem.WordNetLemmatizer()\n",
        "\n",
        "def LemTokens(tokens):\n",
        "    return [lemmer.lemmatize(token) for token in tokens]\n",
        "# Create a dictionary for removing punctuation\n",
        "remove_punc_dict = dict((ord(punct), None) for punct in string.punctuation)\n",
        "\n",
        "def LemNormalize(text):\n",
        "    return LemTokens(nltk.word_tokenize(text.lower().translate(remove_punc_dict)))\n"
      ],
      "metadata": {
        "id": "htN8BPpffaWx"
      },
      "execution_count": 66,
      "outputs": []
    },
    {
      "cell_type": "code",
      "source": [
        "random_questions = (\n",
        "        \"What's the last book you read, and did you enjoy it?\",\n",
        "        \"Why are you here?\",\n",
        "        \"Are there any humans like you?\",\n",
        "        \"What planets have you visited?\",\n",
        "        \"What's your favorite type of cuisine?\",\n",
        "        \"If you could visit any place in the universe, where would you go?\",\n",
        "        \"What's a skill you've always wanted to learn but haven't had the chance to yet?\",\n",
        "        \"If you could time travel, would you go to the past or the future?\",\n",
        "        \"What's your go-to comfort food?\",\n",
        "        \"If you could have any superpower, what would it be?\",\n",
        "        \"What's the most interesting place you've ever been?\",\n",
        "        \"If you could switch lives with someone for a day, who would it be?\",\n",
        "        \"What's the weirdest food combination you've ever tried and loved?\",\n",
        "        \"What's a hobby or activity you enjoy in your free time?\"\n",
        "    )\n",
        "humorous_responses = (\n",
        "    \"Why did the computer go to therapy? It had too many bytes of emotional baggage!\",\n",
        "    \"I'm a highly advanced species of potato pretending to be a chatbot. Shh, don't tell anyone!\",\n",
        "    \"Why don't scientists trust atoms? Because they make up everything!\",\n",
        "    \"Did you hear about the mathematician who's afraid of negative numbers? He will stop at nothing to avoid them!\",\n",
        "    \"Why did the scarecrow win an award? Because he was outstanding in his field!\",\n",
        "    \"I told my wife she should embrace her mistakes. She gave me a hug!\",\n",
        ")\n",
        "greet_inputs=('Hello',\n",
        "'Hi there',\n",
        "'Hey',\n",
        "'Greetings!Whats up?',\n",
        "'How are you?',\n",
        "'Hi','hello',\n",
        "'Wassup')\n",
        "greet_responses=('Hello! I am here and ready to assist you.',\n",
        "'Hi there! Great to see you. How can I help today?',\n",
        "'Hey! I am thrilled you dropped by. Whats on your mind?',\n",
        "'Hi! Your presence brightens up my virtual world. What can I do for you?',\n",
        "'Greetings, human! Ready for some witty banter?')\n",
        "def greet(sentence):\n",
        "   #loop through each word in the sentence\n",
        "  for word in sentence.split():\n",
        "    if word.lower() in greet_inputs:\n",
        "      #return a randomly chosen greeting response\n",
        "      return random.choice(greet_responses)"
      ],
      "metadata": {
        "id": "Di9fTWNug270"
      },
      "execution_count": 42,
      "outputs": []
    },
    {
      "cell_type": "code",
      "source": [
        "#importing necessary modules for text processing and similarity calculation\n",
        "from sklearn.feature_extraction.text import TfidfVectorizer\n",
        "from sklearn.metrics.pairwise import cosine_similarity"
      ],
      "metadata": {
        "id": "YcWoTCsviXbq"
      },
      "execution_count": 65,
      "outputs": []
    },
    {
      "cell_type": "code",
      "source": [
        "def response(user_response):\n",
        "  robo1_response=''\n",
        "\n",
        "\n",
        "  #create a TfidfVectorizer with LemNormalize as the tokenizer and stop words in English\n",
        "  TfidfVec=TfidfVectorizer(tokenizer=LemNormalize,stop_words='english')\n",
        "  tfidf=TfidfVec.fit_transform(sentence_tokens)\n",
        "  #calculate cosine similarity between the user's response and existing sentence tokens\n",
        "  vals=cosine_similarity(tfidf[-1],tfidf)\n",
        "  #find the index of the most similar response\n",
        "  idx=vals.argsort()[0][-2]\n",
        "  flat=vals.flatten()\n",
        "  flat.sort()\n",
        "  req_tdidf=flat[-2]\n",
        "  #check if there is similarity\n",
        "  if (req_tdidf==0):\n",
        "   robo1_response=robo1_response+\"I am unable to understand you!\"\n",
        "  else:\n",
        "\n",
        "   if random.random() < 0.5:  #50% chance of a humorous response\n",
        "    robo1_response = robo1_response + random.choice(humorous_responses)\n",
        "   else:\n",
        "    robo1_response=robo1_response+ sentence_tokens[idx]\n",
        "    return robo1_response\n"
      ],
      "metadata": {
        "id": "-LC7wHzTjYVN"
      },
      "execution_count": 64,
      "outputs": []
    },
    {
      "cell_type": "code",
      "source": [
        "def simple_chatbot(question):\n",
        "    if 'capabilities' in question:\n",
        "        return \"I am a basic chatbot designed to answer questions and provide information.\"\n",
        "\n",
        "    elif 'purpose' in question:\n",
        "        return \"My purpose is to assist users by answering questions and providing information in a conversational manner.\"\n",
        "\n",
        "    elif 'functions' in question:\n",
        "        return \"I can respond to general queries, provide information, and engage in simple conversations.\"\n",
        "\n",
        "    elif 'limitations' in question:\n",
        "        return \"I have limitations in understanding complex context and nuanced language. My responses are based on patterns learned from data.\"\n",
        "\n",
        "    elif 'who created you' in question:\n",
        "        return \"I was created by Lawanya.\"\n",
        "\n",
        "\n",
        "\n",
        "    else:\n",
        "        return \"I'm not sure how to respond to that. Feel free to ask me questions.\"\n",
        "\n",
        "\n",
        "questions = (\n",
        "    \"What are your capabilities?\",\n",
        "    \"What is your purpose?\",\n",
        "    \"What functions can you perform?\",\n",
        "    \"What are your limitations?\",\n",
        "    \"Who created you?\"\n",
        ")\n"
      ],
      "metadata": {
        "id": "qj4SVPo7bC_b"
      },
      "execution_count": 62,
      "outputs": []
    },
    {
      "cell_type": "code",
      "source": [
        "flag = True\n",
        "\n",
        "\n",
        "# Display the welcome message\n",
        "print('Hello! I am the retrieval learning bot:CosmoBot. I have knowledge about Earth.')\n",
        "print('Start typing your text after greeting to talk to me. For ending the convo type bye.')\n",
        "\n",
        "while flag:\n",
        "    # Get user input\n",
        "    user_response = input().lower()\n",
        "    for question in questions:\n",
        "     response = simple_chatbot(question)\n",
        "\n",
        "\n",
        "#if the user types 'bye',set the flag to false and end the conversation\n",
        "    if user_response in ['bye', 'exit']:\n",
        "        flag = False\n",
        "        print(\"Bot: Goodbye!Have a good day.\")\n",
        "    elif(user_response=='how are you?'):\n",
        "        print(\"Bot:Thank you for asking! As a machine learning model, I don't have feelings, but I'm here and ready to assist you. How can I help you today?\")\n",
        "    elif(user_response=='what are you doing?'):\n",
        "        print('I am here to assist you by providing information and answering questions to the best of my knowledge and abilities')\n",
        "    elif user_response in ['thankyou', 'thanks']:\n",
        "        flag = False\n",
        "        print(\"Bot: You're welcome!\")\n",
        "\n",
        "    else:\n",
        "        greeting = greet(user_response)\n",
        "        if greeting:\n",
        "            print(f\"Bot: {greeting.capitalize()}, how can I assist you?\")\n",
        "        else:\n",
        "            if random.random() < 0.2:  # 20% chance of asking a random question\n",
        "                print(f\"Bot: {random.choice(random_questions)}\")\n",
        "\n",
        "            else:\n",
        "                sentence_tokens.append(user_response)\n",
        "                word_tokens += nltk.word_tokenize(user_response)\n",
        "                final_words = list(set(word_tokens))\n",
        "                print('Bot:', end='')\n",
        "                print(response)\n",
        "                sentence_tokens.remove(user_response)\n"
      ],
      "metadata": {
        "id": "QFpb0Lo8VxXV"
      },
      "execution_count": null,
      "outputs": []
    }
  ]
}